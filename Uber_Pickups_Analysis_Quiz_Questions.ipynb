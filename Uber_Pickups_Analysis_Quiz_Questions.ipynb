{
 "cells": [
  {
   "cell_type": "markdown",
   "id": "59130f22",
   "metadata": {},
   "source": [
    "### Uber Pickups Analysis Quiz\n",
    "\n",
    "The question set is based on the August dataset, `uber-raw-data-aug14.csv`.\n",
    "\n",
    "#### Keeping the dataset ready before questions"
   ]
  },
  {
   "cell_type": "code",
   "execution_count": 34,
   "id": "5cee4116",
   "metadata": {
    "scrolled": true
   },
   "outputs": [
    {
     "data": {
      "text/html": [
       "<div>\n",
       "<style scoped>\n",
       "    .dataframe tbody tr th:only-of-type {\n",
       "        vertical-align: middle;\n",
       "    }\n",
       "\n",
       "    .dataframe tbody tr th {\n",
       "        vertical-align: top;\n",
       "    }\n",
       "\n",
       "    .dataframe thead th {\n",
       "        text-align: right;\n",
       "    }\n",
       "</style>\n",
       "<table border=\"1\" class=\"dataframe\">\n",
       "  <thead>\n",
       "    <tr style=\"text-align: right;\">\n",
       "      <th></th>\n",
       "      <th>Date/Time</th>\n",
       "      <th>Lat</th>\n",
       "      <th>Lon</th>\n",
       "      <th>Base</th>\n",
       "    </tr>\n",
       "  </thead>\n",
       "  <tbody>\n",
       "    <tr>\n",
       "      <th>0</th>\n",
       "      <td>8/1/2014 0:03:00</td>\n",
       "      <td>40.7366</td>\n",
       "      <td>-73.9906</td>\n",
       "      <td>B02512</td>\n",
       "    </tr>\n",
       "    <tr>\n",
       "      <th>1</th>\n",
       "      <td>8/1/2014 0:09:00</td>\n",
       "      <td>40.7260</td>\n",
       "      <td>-73.9918</td>\n",
       "      <td>B02512</td>\n",
       "    </tr>\n",
       "    <tr>\n",
       "      <th>2</th>\n",
       "      <td>8/1/2014 0:12:00</td>\n",
       "      <td>40.7209</td>\n",
       "      <td>-74.0507</td>\n",
       "      <td>B02512</td>\n",
       "    </tr>\n",
       "    <tr>\n",
       "      <th>3</th>\n",
       "      <td>8/1/2014 0:12:00</td>\n",
       "      <td>40.7387</td>\n",
       "      <td>-73.9856</td>\n",
       "      <td>B02512</td>\n",
       "    </tr>\n",
       "    <tr>\n",
       "      <th>4</th>\n",
       "      <td>8/1/2014 0:12:00</td>\n",
       "      <td>40.7323</td>\n",
       "      <td>-74.0077</td>\n",
       "      <td>B02512</td>\n",
       "    </tr>\n",
       "  </tbody>\n",
       "</table>\n",
       "</div>"
      ],
      "text/plain": [
       "          Date/Time      Lat      Lon    Base\n",
       "0  8/1/2014 0:03:00  40.7366 -73.9906  B02512\n",
       "1  8/1/2014 0:09:00  40.7260 -73.9918  B02512\n",
       "2  8/1/2014 0:12:00  40.7209 -74.0507  B02512\n",
       "3  8/1/2014 0:12:00  40.7387 -73.9856  B02512\n",
       "4  8/1/2014 0:12:00  40.7323 -74.0077  B02512"
      ]
     },
     "execution_count": 34,
     "metadata": {},
     "output_type": "execute_result"
    }
   ],
   "source": [
    "import pandas as pd\n",
    "\n",
    "df = pd.read_csv('./Uber Trips Analysis/data/uber-raw-data-aug14.csv')\n",
    "df.head()"
   ]
  },
  {
   "cell_type": "markdown",
   "id": "c622eaeb",
   "metadata": {},
   "source": [
    "#### Q1. On what date did we see the most number of Uber pickups?\n",
    "\n",
    "**Skill Test:** Grouping & Counting"
   ]
  },
  {
   "cell_type": "code",
   "execution_count": 35,
   "id": "55dbb048",
   "metadata": {},
   "outputs": [
    {
     "name": "stdout",
     "output_type": "stream",
     "text": [
      "Date with the most number of pickups: 2014-08-07\n"
     ]
    }
   ],
   "source": [
    "# Convert the 'Date/Time' column to datetime format\n",
    "df['Date/Time'] = pd.to_datetime(df['Date/Time'])\n",
    "\n",
    "# Group by date and count the number of pickups\n",
    "df['Date'] = df['Date/Time'].dt.date\n",
    "pickup_counts = df.groupby('Date')['Lat'].count()\n",
    "date_with_most_pickups = pickup_counts.idxmax()\n",
    "\n",
    "print(\"Date with the most number of pickups:\", date_with_most_pickups)"
   ]
  },
  {
   "cell_type": "markdown",
   "id": "92876286",
   "metadata": {},
   "source": [
    "#### Q.2 How many Uber pickups were made on the date with the highest number of pickups?\n",
    "\n",
    "**Skill Test:** Indexing and filtering"
   ]
  },
  {
   "cell_type": "code",
   "execution_count": 36,
   "id": "f9574d4a",
   "metadata": {
    "scrolled": true
   },
   "outputs": [
    {
     "ename": "TypeError",
     "evalue": "'<' not supported between instances of 'datetime.date' and 'int'",
     "output_type": "error",
     "traceback": [
      "\u001b[1;31m---------------------------------------------------------------------------\u001b[0m",
      "\u001b[1;31mTypeError\u001b[0m                                 Traceback (most recent call last)",
      "Cell \u001b[1;32mIn[36], line 4\u001b[0m\n\u001b[0;32m      1\u001b[0m \u001b[38;5;66;03m# Filter the DataFrame to include only the rows for the date with the highest number of pickups\u001b[39;00m\n\u001b[0;32m      2\u001b[0m hour_with_highest_pickups \u001b[38;5;241m=\u001b[39m pickup_counts\u001b[38;5;241m.\u001b[39midxmax()\n\u001b[1;32m----> 4\u001b[0m am_pm \u001b[38;5;241m=\u001b[39m \u001b[38;5;124m'\u001b[39m\u001b[38;5;124mAM\u001b[39m\u001b[38;5;124m'\u001b[39m \u001b[38;5;28;01mif\u001b[39;00m \u001b[43mhour_with_highest_pickups\u001b[49m\u001b[43m \u001b[49m\u001b[38;5;241;43m<\u001b[39;49m\u001b[43m \u001b[49m\u001b[38;5;241;43m12\u001b[39;49m \u001b[38;5;28;01melse\u001b[39;00m \u001b[38;5;124m'\u001b[39m\u001b[38;5;124mPM\u001b[39m\u001b[38;5;124m'\u001b[39m\n\u001b[0;32m      5\u001b[0m \u001b[38;5;28;01mif\u001b[39;00m hour_with_highest_pickups \u001b[38;5;241m>\u001b[39m\u001b[38;5;241m12\u001b[39m:\n\u001b[0;32m      6\u001b[0m     hour_with_highest_pickups \u001b[38;5;241m=\u001b[39m hour_with_highest_pickups \u001b[38;5;241m-\u001b[39m\u001b[38;5;241m12\u001b[39m\n",
      "\u001b[1;31mTypeError\u001b[0m: '<' not supported between instances of 'datetime.date' and 'int'"
     ]
    }
   ],
   "source": [
    "# Filter the DataFrame to include only the rows for the date with the highest number of pickups\n",
    "hour_with_highest_pickups = pickup_counts.idxmax()\n",
    "\n",
    "am_pm = 'AM' if hour_with_highest_pickups < 12 else 'PM'\n",
    "if hour_with_highest_pickups >12:\n",
    "    hour_with_highest_pickups = hour_with_highest_pickups -12\n",
    "\n",
    "print(\"Hour with the highest number of pickups:\", hour_with_highest_pickups, am_pm)"
   ]
  },
  {
   "cell_type": "markdown",
   "id": "7dc6baef",
   "metadata": {},
   "source": [
    "#### Q.3 How many unique TLC base companies are affiliated with the Uber pickups in the dataset?\n",
    "\n",
    "**Skill Test:** Counting unique values"
   ]
  },
  {
   "cell_type": "code",
   "execution_count": null,
   "id": "9380c5ff",
   "metadata": {},
   "outputs": [],
   "source": [
    "# Count the number of unique TLC base companies\n",
    "unique_companies = df['Base'].nunique()\n",
    "print(unique_companies)"
   ]
  },
  {
   "cell_type": "markdown",
   "id": "71958a9f",
   "metadata": {},
   "source": [
    "#### Q.4 Which TLC base company had the highest number of pickups?\n",
    "\n",
    "**Skill Test:** Grouping, counting, and finding the maximum"
   ]
  },
  {
   "cell_type": "code",
   "execution_count": null,
   "id": "cd1cfe55",
   "metadata": {},
   "outputs": [],
   "source": [
    "# Group by TLC base company and count the number of pickups\n",
    "pickup_counts = df.groupby('Base')['Lat'].count()\n",
    "highest_pickup_company = pickup_counts.idxmax()\n",
    "print(\"TLC base company with the highest number of pickups:\", highest_pickup_company)"
   ]
  },
  {
   "cell_type": "markdown",
   "id": "a7fe7748",
   "metadata": {},
   "source": [
    "#### Q.5 How many Uber pickups were made at each unique TLC base company?\n",
    "\n",
    "**Skill Test:** Grouping and counting"
   ]
  },
  {
   "cell_type": "code",
   "execution_count": null,
   "id": "f8a4e6b3",
   "metadata": {},
   "outputs": [],
   "source": [
    "# Group by TLC base company and count the number of pickups\n",
    "pickup_counts = df.groupby('Base')['Lat'].count()\n",
    "print(pickup_counts)"
   ]
  },
  {
   "cell_type": "markdown",
   "id": "fdae331e",
   "metadata": {},
   "source": [
    "#### Q.6 Can you determine the busiest time of day for Uber pickups based on the date/time column?\n",
    "\n",
    "**Skill Test:** Extracting time components, grouping, counting, and finding the maximum"
   ]
  },
  {
   "cell_type": "code",
   "execution_count": null,
   "id": "3341b137",
   "metadata": {},
   "outputs": [],
   "source": [
    "# Extract the hour from the 'Date/Time' column\n",
    "\n",
    "\n",
    "# Group by hour and count the number of pickups\n",
    "\n",
    "\n",
    "# Find the hour with the highest number of pickups\n",
    "\n",
    "df['Hour'] = df['Date/Time'].dt.hour\n",
    "\n",
    "\n",
    "pickup_counts = df.groupby('Hour')['Lat'].count()\n",
    "\n",
    "\n",
    "hour_with_highest_pickups = pickup_counts.idxmax()\n",
    "\n",
    "\n",
    "\n",
    "print(\"Hour with the highest number of pickups:\", hour_with_highest_pickups,'hr')\n"
   ]
  },
  {
   "cell_type": "markdown",
   "id": "c2d856c1",
   "metadata": {},
   "source": [
    "#### Q.7 Can you create a visualization (e.g., a bar chart or line plot) to represent the number of Uber pickups over time?\n",
    "\n",
    "**Skill Test:** Data Visualization using Plotting function "
   ]
  },
  {
   "cell_type": "code",
   "execution_count": null,
   "id": "bf609d23",
   "metadata": {},
   "outputs": [],
   "source": [
    "import matplotlib.pyplot as plt\n",
    "\n",
    "# Group by date and count the number of pickups\n",
    "\n",
    "pickup_count_by_date = df.groupby('Date')['Lat'].count()\n",
    "\n",
    "#print(pickup_count_by_date)\n",
    "\n",
    "\n",
    "# Create a line plot to visualize the number of pickups over time\n",
    "\n",
    "plt.plot(pickup_count_by_date.index, pickup_count_by_date.values,color= 'c' ,linewidth = 2)\n",
    "\n",
    "plt.xlabel(\"Date\",fontsize = 15,fontname = 'Times New Roman',color = 'c')\n",
    "plt.ylabel(\"Pickup Count\",fontsize = 15,fontname = 'Times New Roman',color = 'c')\n",
    "plt.title(\"Uber Pickups Over Time\",fontsize = 15,fontname = 'Times New Roman',color = 'c')\n",
    "plt.xticks(rotation=45)\n",
    "plt.show()\n",
    "\n"
   ]
  },
  {
   "cell_type": "markdown",
   "id": "8aed8e44",
   "metadata": {},
   "source": [
    "#### Q8. Can you create a scatter plot to visualize the distribution of Uber pickups based on latitude and longitude?\n",
    "\n",
    "**Skill Test:** Scatter Plot"
   ]
  },
  {
   "cell_type": "code",
   "execution_count": null,
   "id": "50b31f2f",
   "metadata": {
    "scrolled": true
   },
   "outputs": [],
   "source": [
    "# Create a scatter plot to visualize the distribution of Uber pickups based on latitude and longitude\n",
    "grouped_data = df.groupby('Base')\n",
    "\n",
    "# Create a scatter plot for each group\n",
    "for group_name, group_data in grouped_data:\n",
    "    plt.scatter(group_data['Lat'], group_data['Lon'], label=group_name, s=10, alpha=0.5)\n",
    "\n",
    "plt.xlabel('Latitude', fontsize=12)\n",
    "plt.ylabel('Longitude', fontsize=12)\n",
    "plt.title('Distribution of Uber Pickups by Base', fontsize=14, fontweight='bold')\n",
    "plt.legend()\n",
    "\n",
    "plt.show()"
   ]
  },
  {
   "cell_type": "markdown",
   "id": "3e0bad62",
   "metadata": {},
   "source": [
    "#### Q9. Can you create a bar chart to compare the number of Uber pickups for each TLC base company?\n",
    "\n",
    "**Skill Test:** Bar Chart"
   ]
  },
  {
   "cell_type": "code",
   "execution_count": null,
   "id": "5b603834",
   "metadata": {},
   "outputs": [],
   "source": [
    "# Create a bar chart to compare the number of Uber pickups for each TLC base company\n",
    "pickup_count_base = df.groupby('Base')['Lat'].count()\n",
    "#print(pickup_count_base)\n",
    "plt.bar(pickup_count_base.index,pickup_count_base.values, color = 'c')\n",
    "plt.xlabel('Base',fontname = 'times new roman',fontsize = 15,c = 'c')\n",
    "plt.ylabel('Pick_up Count',fontname = 'times new roman',fontsize = 15,c = 'c')\n",
    "plt.title('Pick_ups For Each TLC Base',fontname = 'times new roman',fontsize = 15,c = 'c')\n",
    "plt.show()"
   ]
  },
  {
   "cell_type": "markdown",
   "id": "e61b3ecf",
   "metadata": {},
   "source": [
    "#### Q10. Can you create a pie chart to display the percentage distribution of Uber pickups for each day of the week?\n",
    "\n",
    "**Skill Test:** Pie Chart"
   ]
  },
  {
   "cell_type": "code",
   "execution_count": null,
   "id": "e45dbff8",
   "metadata": {},
   "outputs": [],
   "source": [
    "pickup_counts = df.groupby('Hour')['Lat'].count()\n",
    "\n",
    "# Find the busiest time of day (hour) for Uber pickups\n",
    "busiest_hour = pickup_counts.idxmax()\n",
    "\n",
    "# Print the busiest hour for Uber pickups\n",
    "#print(\"Busiest time of day for Uber pickups:\", busiest_hour)\n",
    "df['DayOfWeek'] = df['Date/Time'].dt.day_name()\n",
    "#print(df['DayOfWeek'])\n",
    "pickup_counts = df.groupby('DayOfWeek')['Lat'].count()\n",
    "labels = pickup_counts.index\n",
    "counts = pickup_counts.values\n",
    "percentages = counts / counts.sum() * 100\n",
    "plt.pie(percentages, labels=labels, autopct='%0.1f%%',radius=1.5)\n",
    "plt.show()\n",
    "\n"
   ]
  },
  {
   "cell_type": "code",
   "execution_count": null,
   "id": "402cfef1",
   "metadata": {},
   "outputs": [],
   "source": []
  },
  {
   "cell_type": "code",
   "execution_count": null,
   "id": "dbed05fd",
   "metadata": {},
   "outputs": [],
   "source": []
  }
 ],
 "metadata": {
  "kernelspec": {
   "display_name": "Python 3 (ipykernel)",
   "language": "python",
   "name": "python3"
  },
  "language_info": {
   "codemirror_mode": {
    "name": "ipython",
    "version": 3
   },
   "file_extension": ".py",
   "mimetype": "text/x-python",
   "name": "python",
   "nbconvert_exporter": "python",
   "pygments_lexer": "ipython3",
   "version": "3.11.1"
  }
 },
 "nbformat": 4,
 "nbformat_minor": 5
}
